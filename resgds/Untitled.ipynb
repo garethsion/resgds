{
 "cells": [
  {
   "cell_type": "code",
   "execution_count": 48,
   "metadata": {},
   "outputs": [
    {
     "data": {
      "image/png": "[encoded data removed]",
      "text/plain": [
       "<matplotlib.figure.Figure at 0x10ec95cf8>"
      ]
     },
     "metadata": {},
     "output_type": "display_data"
    }
   ],
   "source": [
    "import numpy as np\n",
    "from matplotlib import pyplot as plt\n",
    "\n",
    "w1 = 3\n",
    "w2 = 12\n",
    "\n",
    "x = np.linspace(0,14,100)\n",
    "y = np.linspace(w1,w2,len(x))\n",
    "\n",
    "L = max(x) - min(x)\n",
    "\n",
    "y1 = np.zeros(len(x))\n",
    "y2 = np.zeros(len(x))\n",
    "\n",
    "for i in range(0,len(x)):\n",
    "    y1[i] = w1*np.exp((x[i]/L * np.log(w2/w1)))\n",
    "    y2[i] = -1*w1*np.exp((x[i]/L * np.log(w2/w1)))\n",
    "\n",
    "xend1 = [x[0], x[0]]\n",
    "xend2 = [x[len(x)-1], x[len(x)-1]]\n",
    "\n",
    "yend1 = [y1[0],y2[0]]\n",
    "yend2 = [y1[len(y1)-1],y2[len(y1)-1]]\n",
    "    \n",
    "plt.plot(x,y1,'b',linewidth=2.5)\n",
    "plt.plot(x,y2,'b',linewidth=2.5)\n",
    "plt.plot(xend1,yend1,'b',linewidth=2.5)\n",
    "plt.plot(xend2,yend2,'b',linewidth=2.5)\n",
    "plt.show()"
   ]
  },
  {
   "cell_type": "code",
   "execution_count": 61,
   "metadata": {},
   "outputs": [],
   "source": [
    "def exptaper(w1,w2,L,x0,npoints=100):\n",
    "    \n",
    "    x = np.linspace(x0,x0+L,npoints)\n",
    "    y = np.linspace(w1,w2,len(x))\n",
    "\n",
    "    curve1 = np.zeros(len(x))\n",
    "    curve2 = np.zeros(len(x))\n",
    "\n",
    "    \n",
    "    for i in range(0,len(x)):\n",
    "        curve1[i] = w1*np.exp((x[i]/L * np.log(w2/w1)))\n",
    "        curve2[i] = -1*w1*np.exp((x[i]/L * np.log(w2/w1)))\n",
    "            \n",
    "    x0 = x[0], x[0]\n",
    "    y0 = curve1[0], curve2[0]\n",
    "\n",
    "    taper1 = list(zip(x0,y0))\n",
    "\n",
    "    x1 = list(x) \n",
    "    y1 = list(curve1)\n",
    "    taper2 = list(zip(x1,y1))\n",
    "\n",
    "    x2 = x[len(x)-1], x[len(x)-1] \n",
    "    y2 = curve1[len(x)-1], curve2[len(x)-1] \n",
    "    taper3 = list(zip(x2,y2))\n",
    "    \n",
    "    x3 =  x \n",
    "    y3 =  curve2\n",
    "    taper4 = list(zip(x3,y3))\n",
    "    \n",
    "    return taper1, taper2, taper3, taper4"
   ]
  },
  {
   "cell_type": "code",
   "execution_count": 75,
   "metadata": {},
   "outputs": [
    {
     "name": "stdout",
     "output_type": "stream",
     "text": [
      "[(12.0, 9.8440242720916533), (12.0, -9.8440242720916533)]\n"
     ]
    },
    {
     "data": {
      "image/png": "[encoded data removed]",
      "text/plain": [
       "<matplotlib.figure.Figure at 0x111218908>"
      ]
     },
     "metadata": {},
     "output_type": "display_data"
    }
   ],
   "source": [
    "import numpy as np\n",
    "from matplotlib import pyplot as plt\n",
    "\n",
    "t1,t2,t3,t4 = exptaper(3,12,14,12)\n",
    "print(t1)\n",
    "plt.plot([12,12],[9.8,-9.8],'b',linewidth=2.5)\n",
    "# plt.plot(t2,'b',linewidth=2.5)\n",
    "# plt.plot(t3,'b',linewidth=2.5)\n",
    "# plt.plot(t4,'b',linewidth=2.5)\n",
    "plt.show()"
   ]
  },
  {
   "cell_type": "code",
   "execution_count": 12,
   "metadata": {},
   "outputs": [
    {
     "data": {
      "image/png": "[encoded data removed]",
      "text/plain": [
       "<matplotlib.figure.Figure at 0x10f1362b0>"
      ]
     },
     "metadata": {},
     "output_type": "display_data"
    }
   ],
   "source": [
    "import numpy as np\n",
    "from matplotlib import pyplot as plt\n",
    "\n",
    "taper = exptaper(3,12,14,12)\n",
    "\n",
    "plt.plot(taper[0],taper[1],'b',linewidth=2.5)\n",
    "plt.plot(taper[2],taper[3],'b',linewidth=2.5)\n",
    "plt.plot(taper[4],taper[5],'b',linewidth=2.5)\n",
    "plt.plot(taper[6],taper[7],'b',linewidth=2.5)\n",
    "plt.show()"
   ]
  },
  {
   "cell_type": "code",
   "execution_count": 3,
   "metadata": {},
   "outputs": [
    {
     "data": {
      "text/plain": [
       "[12.0, 12.0]"
      ]
     },
     "execution_count": 3,
     "metadata": {},
     "output_type": "execute_result"
    }
   ],
   "source": [
    "taper[0]"
   ]
  },
  {
   "cell_type": "code",
   "execution_count": null,
   "metadata": {
    "collapsed": true
   },
   "outputs": [],
   "source": []
  }
 ],
 "metadata": {
  "kernelspec": {
   "display_name": "Python 3",
   "language": "python",
   "name": "python3"
  },
  "language_info": {
   "codemirror_mode": {
    "name": "ipython",
    "version": 3
   },
   "file_extension": ".py",
   "mimetype": "text/x-python",
   "name": "python",
   "nbconvert_exporter": "python",
   "pygments_lexer": "ipython3",
   "version": "3.6.3"
  }
 },
 "nbformat": 4,
 "nbformat_minor": 2
}
