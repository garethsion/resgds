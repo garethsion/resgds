{
 "cells": [
  {
   "cell_type": "code",
   "execution_count": 1,
   "metadata": {},
   "outputs": [],
   "source": [
    "#!/usr/bin/env python\n",
    "\n",
    "import os\n",
    "from resgds import *\n",
    "import bragg\n",
    "import gdspy # gds library\n",
    "import numpy as np\n",
    "from subprocess import call # Use to call kaloput_viewer bash script\n",
    "import psutil # Use to check if klayout is running already   \n",
    "\n",
    "# Layout filename\n",
    "layout_file = 'test.gds'\n",
    "\n",
    "# Parameters\n",
    "sub_x = 7500\n",
    "sub_y = 7500\n",
    "\n",
    "wc = 8.11 # Conductor width of cavity\n",
    "gc = 17.85 # Gap b/w conductor and substrate\n",
    "lc = 8108.45 # Length of cavity\n",
    "\n",
    "bond_pad = 200 \n",
    "central_conductor = 50\n",
    "ratio = .5 \n",
    "H = 10000\n",
    "W = 4000\n",
    "r = 400 \n",
    "d_dot = 20\n",
    "\n",
    "coords = lambda x,dx=0: x+dx\n",
    "\n",
    "# Centre Cavity [layer 2]\n",
    "x0, y0 = [coords(sub_x/2, -lc/2), coords(sub_y/2, -2*(wc/2) - gc/2)]\n",
    "\n",
    "# Setup gds cell and gds object\n",
    "poly_cell = gdspy.Cell('POLYGONS')\n",
    "rs = Shapes(poly_cell)\n",
    "\n",
    "feed = LayoutComponents(poly_cell, x0, y0, layer = 1)\n",
    "\n",
    "feedbond = feed.make_feedbond(central_conductor, ratio, \n",
    "                bond_pad, orientation='H')\n",
    "    \n",
    "if(\"klayout\" in (p.name() for p in psutil.process_iter())):\n",
    "    #Write the pattern as a gds file\n",
    "    gdspy.write_gds(layout_file, unit=1.0e-6, precision=1.0e-9)\n",
    "else:\n",
    "    gdspy.write_gds(layout_file, unit=1.0e-6, precision=1.0e-9)\n",
    "    kl = call('./klayout_viewer %s' %layout_file,shell=True)"
   ]
  },
  {
   "cell_type": "code",
   "execution_count": 2,
   "metadata": {},
   "outputs": [
    {
     "name": "stderr",
     "output_type": "stream",
     "text": [
      "ERROR:root:Line magic function `%restart` not found.\n"
     ]
    }
   ],
   "source": [
    "%restart"
   ]
  },
  {
   "cell_type": "code",
   "execution_count": null,
   "metadata": {
    "collapsed": true
   },
   "outputs": [],
   "source": []
  }
 ],
 "metadata": {
  "kernelspec": {
   "display_name": "Python 3",
   "language": "python",
   "name": "python3"
  },
  "language_info": {
   "codemirror_mode": {
    "name": "ipython",
    "version": 3
   },
   "file_extension": ".py",
   "mimetype": "text/x-python",
   "name": "python",
   "nbconvert_exporter": "python",
   "pygments_lexer": "ipython3",
   "version": "3.6.3"
  }
 },
 "nbformat": 4,
 "nbformat_minor": 2
}
