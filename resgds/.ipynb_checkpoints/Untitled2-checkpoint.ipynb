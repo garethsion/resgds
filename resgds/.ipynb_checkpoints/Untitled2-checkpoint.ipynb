{
 "cells": [
  {
   "cell_type": "code",
   "execution_count": 1,
   "metadata": {},
   "outputs": [],
   "source": [
    "#!/usr/bin/env python\n",
    "import os\n",
    "from resgds import *\n",
    "import bragg \n",
    "import gdspy # gds library\n",
    "import numpy as np\n",
    "from subprocess import call # Use to call kaloput_viewer bash script\n",
    "import psutil # Use to check if klayout is running already···\n",
    "\n",
    "# Layout filename\n",
    "layout_file = 'test.gds'\n",
    "\n",
    "# Parameters\n",
    "sub_x = 10000\n",
    "sub_y = 10000\n",
    "wc = 200 #8.11  Length of cavity\n",
    "gc = 200 #17.85  Gap b/w conductor and substrate\n",
    "lc = 8108.45 # Conductor width of cavity\n",
    "\n",
    "wlow = 300  #30.44 Width of low impedance section\n",
    "glow = .5*(wc + 2*gc - wlow) #6.685 Gap of low impedance section\n",
    "llow = 4051.32\n",
    "\n",
    "whigh = 50 #2\n",
    "ghigh = .5*(wlow + 2*glow - whigh)\n",
    "lhigh = 4051.32\n",
    "\n",
    "rlow = 50 # Radius of low impedance section\n",
    "rhigh = 50\n",
    "\n",
    "# Setup gds cell and gds object\n",
    "poly_cell = gdspy.Cell('POLYGONS')\n",
    "rs = Shapes(poly_cell)\n",
    "\n",
    "# Substrate [layer 0]\n",
    "sub = BuildRect(poly_cell, sub_x, sub_y, layer=0)\n",
    "sub.make(0,0)\n",
    "\n",
    "# Make Bragg Mirror sections\n",
    "x0 = 0\n",
    "y0 = sub_y/2\n",
    "\n",
    "#layer 2 - Feed line 10, .5, 300, 250, 1500, 3000, 2\n",
    "bond_pad = 200\n",
    "central_conductor = 50\n",
    "ratio = 0.5\n",
    "H = 1000\n",
    "W = 4000\n",
    "r = 500\n",
    "\n",
    "d_dots = 40\n",
    "\n",
    "layout = LayoutComponents(poly_cell,sub_x, sub_y,layer=1)\n",
    "layout.make_antidot_array(0,0,10,d_dots,1)\n",
    "dots = layout.antidot_array(0,0,10,d_dots,1)\n",
    "\n",
    "layout2 = LayoutComponents(poly_cell,sub_x, sub_y,layer=2)\n",
    "feedline = layout2.make_feedline(central_conductor, ratio, r, W, H, bond_pad, d_dots)\n",
    "\n",
    "# Check if klayout is already running. If not, write gds and open klayout.·\n",
    "# If it is, just update the gds file\n",
    "if(\"klayout\" in (p.name() for p in psutil.process_iter())):\n",
    "    #Write the pattern as a gds file\n",
    "    gdspy.write_gds(layout_file, unit=1.0e-6, precision=1.0e-9)\n",
    "else:\n",
    "    gdspy.write_gds(layout_file, unit=1.0e-6, precision=1.0e-9)\n",
    "    kl = call('./klayout_viewer %s' %layout_file,shell=True)"
   ]
  },
  {
   "cell_type": "code",
   "execution_count": null,
   "metadata": {
    "collapsed": true
   },
   "outputs": [],
   "source": []
  }
 ],
 "metadata": {
  "kernelspec": {
   "display_name": "Python 3",
   "language": "python",
   "name": "python3"
  },
  "language_info": {
   "codemirror_mode": {
    "name": "ipython",
    "version": 3
   },
   "file_extension": ".py",
   "mimetype": "text/x-python",
   "name": "python",
   "nbconvert_exporter": "python",
   "pygments_lexer": "ipython3",
   "version": "3.6.3"
  }
 },
 "nbformat": 4,
 "nbformat_minor": 2
}
