{
 "cells": [
  {
   "cell_type": "code",
   "execution_count": 1,
   "metadata": {},
   "outputs": [],
   "source": [
    "#!/usr/bin/env python\n",
    "\n",
    "import os\n",
    "from resgds import *\n",
    "import bragg \n",
    "import gdspy # gds library\n",
    "import numpy as np\n",
    "from subprocess import call # Use to call kaloput_viewer bash script\n",
    "import psutil # Use to check if klayout is running already···\n",
    "\n",
    "# Layout filename\n",
    "layout_file = 'test.gds'\n",
    "\n",
    "# Parameters\n",
    "sub_x = 10000\n",
    "sub_y = 10000\n",
    "wc = 200 #8.11  Length of cavity\n",
    "gc = 200 #17.85  Gap b/w conductor and substrate\n",
    "lc = 8108.45 # Conductor width of cavity\n",
    "\n",
    "wlow = 300  #30.44 Width of low impedance section\n",
    "glow = .5*(wc + 2*gc - wlow) #6.685 Gap of low impedance section\n",
    "llow = 4051.32\n",
    "\n",
    "whigh = 50 #2\n",
    "ghigh = .5*(wlow + 2*glow - whigh)\n",
    "lhigh = 4051.32\n",
    "\n",
    "rlow = 50 # Radius of low impedance section\n",
    "rhigh = 50\n",
    "\n",
    "# Setup gds cell and gds object\n",
    "poly_cell = gdspy.Cell('POLYGONS')\n",
    "rs = Shapes(poly_cell)\n",
    "\n",
    "# Substrate [layer 0]\n",
    "sub = BuildRect(poly_cell, sub_x, sub_y, layer=0)\n",
    "sub.make(0,0)\n",
    "\n",
    "# Make Bragg Mirror sections\n",
    "x0 = 0\n",
    "y0 = sub_y/2\n",
    "\n",
    "lowZ = bragg.Bragg(wlow, glow, llow, poly_cell, radius=rlow, layer=1)\n",
    "highZ = bragg.Bragg(whigh, ghigh, lhigh, poly_cell, radius = rhigh, layer=1)\n",
    "\n",
    "arr_l=np.repeat(np.arange(0,4),2*np.ones(4,dtype=int))\n",
    "arr_h=np.append(arr_l[1:],[4], axis=0)\n",
    "\n",
    "make_lowZ = lambda i: lowZ.mirror(x0 + arr_h[i]*highZ.mirror_width() + arr_l[i]*lowZ.mirror_width(), y0)\n",
    "make_highZ = lambda i: lowZ.mirror(x0 + arr_h[i]*highZ.mirror_width() + arr_l[i]*lowZ.mirror_width(), y0)\n",
    "[make_lowZ(x) for x in range(len(arr_l)) if x%2 == 0]\n",
    "[make_highZ(x) for x in range(len(arr_l)) if x%2 == 1]\n",
    "\n",
    "# Check if klayout is already running. If not, write gds and open klayout.·\n",
    "# If it is, just update the gds file\n",
    "if(\"klayout\" in (p.name() for p in psutil.process_iter())):\n",
    "    #Write the pattern as a gds file\n",
    "    gdspy.write_gds(layout_file, unit=1.0e-6, precision=1.0e-9)\n",
    "else:\n",
    "    gdspy.write_gds(layout_file, unit=1.0e-6, precision=1.0e-9)\n",
    "    kl = call('./klayout_viewer %s' %layout_file,shell=True)\n",
    "\n"
   ]
  },
  {
   "cell_type": "code",
   "execution_count": 1,
   "metadata": {},
   "outputs": [
    {
     "data": {
      "text/plain": [
       "<filter at 0x10b478d30>"
      ]
     },
     "execution_count": 1,
     "metadata": {},
     "output_type": "execute_result"
    }
   ],
   "source": [
    "a = [1, 2, 3, 4, 5, 6]\n",
    "filter(lambda x : x % 2 == 0, a) # Output: [2, 4, 6]"
   ]
  },
  {
   "cell_type": "code",
   "execution_count": 9,
   "metadata": {},
   "outputs": [
    {
     "name": "stdout",
     "output_type": "stream",
     "text": [
      "[2, 4]\n"
     ]
    }
   ],
   "source": [
    "list_a = [1, 2, 3, 4, 5]\n",
    "filter_obj = filter(lambda x: x % 2 == 0, list_a) # filter object <filter at 0x4e45890>\n",
    "even_num = list(filter_obj) # Converts the filer obj to a list\n",
    "print(even_num) # Output: [2, 4]"
   ]
  },
  {
   "cell_type": "code",
   "execution_count": 3,
   "metadata": {},
   "outputs": [],
   "source": [
    "ls = np.array([0,1,2,3,5])\n",
    "\n",
    "make_lowZ = [lambda i: lowZ.mirror(x0 + arr_h[i]*highZ.mirror_width() + arr_l[i]*lowZ.mirror_width(), y0) \n",
    "             for i in range(4)]\n",
    "\n",
    "#[out for i in make_lowZ(i)]\n",
    "number_list = [ x for x in range(20) if x % 2 == 0]\n",
    "\n",
    "#map_output = map(lambda x: arr_h[x]*highZ.mirror_width(), [0,1,2,3,4])\n",
    "#print(map_output) # Output: map object: <map object at 0x04D6BAB0>\n",
    "\n",
    "#list_map_output = list(map_output)\n",
    "\n",
    "#print(list_map_output) # Output: [2, 4, 6, 8]"
   ]
  },
  {
   "cell_type": "code",
   "execution_count": 5,
   "metadata": {},
   "outputs": [
    {
     "data": {
      "text/plain": [
       "[0, 2, 4, 6, 8, 10, 12, 14, 16, 18]"
      ]
     },
     "execution_count": 5,
     "metadata": {},
     "output_type": "execute_result"
    }
   ],
   "source": [
    "[ x for x in range(20) if x % 2 == 0]"
   ]
  },
  {
   "cell_type": "code",
   "execution_count": 6,
   "metadata": {},
   "outputs": [
    {
     "data": {
      "text/plain": [
       "[0, 1, 2, 3, 4, 5, 6, 7, 8, 9, 10, 11, 12, 13, 14, 15, 16, 17, 18, 19]"
      ]
     },
     "execution_count": 6,
     "metadata": {},
     "output_type": "execute_result"
    }
   ],
   "source": [
    "[ x for x in range(20)]"
   ]
  },
  {
   "cell_type": "code",
   "execution_count": 8,
   "metadata": {},
   "outputs": [
    {
     "ename": "TypeError",
     "evalue": "'list' object is not callable",
     "output_type": "error",
     "traceback": [
      "\u001b[0;31m---------------------------------------------------------------------------\u001b[0m",
      "\u001b[0;31mTypeError\u001b[0m                                 Traceback (most recent call last)",
      "\u001b[0;32m<ipython-input-8-b35eaea369e1>\u001b[0m in \u001b[0;36m<module>\u001b[0;34m()\u001b[0m\n\u001b[0;32m----> 1\u001b[0;31m \u001b[0mmake_lowZ\u001b[0m\u001b[0;34m(\u001b[0m\u001b[0;36m0\u001b[0m\u001b[0;34m)\u001b[0m\u001b[0;34m\u001b[0m\u001b[0m\n\u001b[0m",
      "\u001b[0;31mTypeError\u001b[0m: 'list' object is not callable"
     ]
    }
   ],
   "source": [
    "make_lowZ(0)"
   ]
  },
  {
   "cell_type": "code",
   "execution_count": null,
   "metadata": {
    "collapsed": true
   },
   "outputs": [],
   "source": []
  }
 ],
 "metadata": {
  "kernelspec": {
   "display_name": "Python 3",
   "language": "python",
   "name": "python3"
  },
  "language_info": {
   "codemirror_mode": {
    "name": "ipython",
    "version": 3
   },
   "file_extension": ".py",
   "mimetype": "text/x-python",
   "name": "python",
   "nbconvert_exporter": "python",
   "pygments_lexer": "ipython3",
   "version": "3.6.3"
  }
 },
 "nbformat": 4,
 "nbformat_minor": 2
}
