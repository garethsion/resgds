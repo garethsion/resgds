{
 "cells": [
  {
   "cell_type": "code",
   "execution_count": 1,
   "metadata": {},
   "outputs": [],
   "source": [
    "#!/usr/bin/env python\n",
    "\n",
    "import os\n",
    "import res_shapes as rs\n",
    "import gdspy # gds library\n",
    "import numpy as np\n",
    "from subprocess import call # Use to call kaloput_viewer bash script\n",
    "import psutil # Use to check if klayout is running already   \n",
    "\n",
    "#setup the folder and gds 'cell'\n",
    "poly_cell = gdspy.Cell('POLYGONS',exclude_from_current=False)\n",
    "\n",
    "# Parameters\n",
    "sub_x = 10000\n",
    "sub_y = 10000\n",
    "wc = 200 # Length of cavity\n",
    "gc = 200 # Gap b/w conductor and substrate\n",
    "lc = 8000 # Conductor width of cavity\n",
    "wlow = 300  # Width of low impedance section\n",
    "glow = 200 # Gap of low impedance section\n",
    "lcap_low = 1000\n",
    "lmeander_low = 200 \n",
    "rlow = 90 # Radius of low impedance section\n",
    "nturns = 3 # Number of turns in quarter wavelength sections\n",
    "\n",
    "#layer 0 - rectangle showing chip size. Not to be exposed.\n",
    "sub = gdspy.Polygon(rs.rect(sub_x, sub_y, 0, 0), 0)\n",
    "poly_cell.add(sub)\n",
    "\n",
    "xc0 = sub_x/2 - lc/2 # x_position of cavity\n",
    "yc0 = sub_y/2 - 2*(wc/2) - gc/2 # y_position of cavity\n",
    "\n",
    "cavity_list = rs.straight_trench(lc, gc, wc, xc0, yc0, orientation='H')\n",
    "cavity1 = gdspy.Polygon(cavity_list[0],1)\n",
    "cavity2 = gdspy.Polygon(cavity_list[1],1)\n",
    "poly_cell.add(cavity1)\n",
    "poly_cell.add(cavity2)\n",
    "\n",
    "xlow1_0=0\n",
    "ylow1_0=sub_y/2\n",
    "\n",
    "# Low impedance quarter wave resonator\n",
    "zlow_list = rs.quarterarc_trench(rlow, wlow, glow, xc0, sub_y/2, orient='NW', npoints=20)\n",
    "zlow1 = gdspy.Polygon(zlow_list[0],1)\n",
    "zlow2 = gdspy.Polygon(zlow_list[1],1)\n",
    "poly_cell.add(zlow1)\n",
    "poly_cell.add(zlow2)\n",
    "\n",
    "# Check if klayout is already running. If not, write gds and open klayout. \n",
    "# If it is, just update the gds file\n",
    "if(\"klayout\" in (p.name() for p in psutil.process_iter())):\n",
    "    #Write the pattern as a gds file\n",
    "    gdspy.write_gds('test.gds', unit=1.0e-6, precision=1.0e-9)\n",
    "else:\n",
    "    gdspy.write_gds('test.gds', unit=1.0e-6, precision=1.0e-9)\n",
    "    kl = call('./klayout_viewer %s' %'test.gds',shell=True)"
   ]
  },
  {
   "cell_type": "code",
   "execution_count": null,
   "metadata": {
    "collapsed": true
   },
   "outputs": [],
   "source": []
  }
 ],
 "metadata": {
  "kernelspec": {
   "display_name": "Python 3",
   "language": "python",
   "name": "python3"
  },
  "language_info": {
   "codemirror_mode": {
    "name": "ipython",
    "version": 3
   },
   "file_extension": ".py",
   "mimetype": "text/x-python",
   "name": "python",
   "nbconvert_exporter": "python",
   "pygments_lexer": "ipython3",
   "version": "3.6.3"
  }
 },
 "nbformat": 4,
 "nbformat_minor": 2
}
